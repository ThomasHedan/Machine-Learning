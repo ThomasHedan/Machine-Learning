{
 "cells": [
  {
   "cell_type": "markdown",
   "id": "60a0aa57",
   "metadata": {},
   "source": [
    "## Regular expression operations\n",
    "\n",
    "A regular expression is a special sequence of characters that helps you match or find other strings or sets of strings, using a specialized syntax held in a pattern. Python has a built-in package called re, which can be used to work with Regular Expres-sions.\n",
    "\n",
    "You can find details here: https://docs.python.org/3/library/re.html#regular-expression-syntax\n"
   ]
  },
  {
   "cell_type": "code",
   "execution_count": 22,
   "id": "86d56ada",
   "metadata": {},
   "outputs": [],
   "source": [
    "import re \n",
    "import requests\n",
    "from bs4 import BeautifulSoup\n",
    "import pandas as pd\n"
   ]
  },
  {
   "cell_type": "markdown",
   "id": "eb71b0cd",
   "metadata": {},
   "source": [
    "#### 1. Write a regexp to extract the score, Cristiano’s age, number of goals and the number of selections from the following text:"
   ]
  },
  {
   "cell_type": "code",
   "execution_count": 23,
   "id": "36b22325",
   "metadata": {},
   "outputs": [],
   "source": [
    "txt = \"Buteur face au Qatar (3-0), samedi en amical, Cristiano Ronaldo (36 ans) a fait tomber un nouveau record. En effet, l'attaquant de Manchester United, meilleur buteur de l'histoire des sélections (112 buts), est devenu le footballeur européen le plus capé avec son équipe nationale. Il compte désormais 181 matchs avec la formation lusitanienne, soit un de plus que Sergio Ramos avec l'Espagne. Le Red Devil n'est plus qu'à cinq longueurs de Bader Ahmed al-Mutawa (Koweït), recordman absolu à l'échelle mondiale.\""
   ]
  },
  {
   "cell_type": "code",
   "execution_count": 24,
   "id": "d8e5554e",
   "metadata": {},
   "outputs": [
    {
     "name": "stdout",
     "output_type": "stream",
     "text": [
      "('3-0', '36 ans', '112 buts', '181')\n"
     ]
    }
   ],
   "source": [
    "pattern_re = re.compile(r'(?:\\d-\\d)|(?:\\d\\d ans)|(?:\\d\\d\\d buts)|(?:\\d\\d\\d)')\n",
    "pattern =tuple(pattern_re.findall(txt))\n",
    "print(pattern)"
   ]
  },
  {
   "cell_type": "markdown",
   "id": "b109b774",
   "metadata": {},
   "source": [
    "#### 2. Write a regexp to get prices from the following text:"
   ]
  },
  {
   "cell_type": "code",
   "execution_count": 25,
   "id": "35f15452",
   "metadata": {},
   "outputs": [],
   "source": [
    "txt2 = \"Vous cherchez un nouvel ordinateur portable performant, fiable et en réduction ? Sur Rakuten, l’ordinateur Apple MacBook Air 2020 est en promotion, avec une remise de près de 230 euros pour un tarif final qui chute sous les 900 euros grâce à la plateforme marchande.\""
   ]
  },
  {
   "cell_type": "code",
   "execution_count": 26,
   "id": "5bf13883",
   "metadata": {},
   "outputs": [
    {
     "name": "stdout",
     "output_type": "stream",
     "text": [
      "230 euros\n",
      "900 euros\n"
     ]
    }
   ],
   "source": [
    "m = re.findall('\\d\\d\\d euros',txt2)\n",
    "for e in m:\n",
    "    print(e)"
   ]
  },
  {
   "cell_type": "markdown",
   "id": "8e871cea",
   "metadata": {},
   "source": [
    "#### 3. Write a regexp to get reduction values, along with promo code:"
   ]
  },
  {
   "cell_type": "code",
   "execution_count": 27,
   "id": "ecd23407",
   "metadata": {},
   "outputs": [],
   "source": [
    "txt3 = \"\"\"\n",
    "- 40% sur tous les réservoirs d'essence et collecteurs d'échappement ( achats internet uniquement ) avec le code promo: PRINTEMPS\n",
    "\n",
    "- 40% sur tous les carénages plastique  ( achats internet uniquement ) avec le code promo: CARENAGE40\n",
    "\n",
    "- 50% sur toutes les rampes d'injection ( achats internet uniquement ) avec le code promo: INJECTION50\n",
    "\"\"\""
   ]
  },
  {
   "cell_type": "code",
   "execution_count": 28,
   "id": "b154c712",
   "metadata": {},
   "outputs": [
    {
     "name": "stdout",
     "output_type": "stream",
     "text": [
      "{'PRINTEMPS': '40%', 'CARENAGE40': '40%', 'INJECTION50': '50%'}\n"
     ]
    }
   ],
   "source": [
    "keys_re = re.compile(r'(?:[A-Z][A-Z\\d]+)')\n",
    "keys =keys_re.findall(txt3)\n",
    "values_re = re.compile(r'(?:\\d\\d%)')\n",
    "values =values_re.findall(txt3)\n",
    "\n",
    "res = dict(zip(keys,values))\n",
    "print(res)"
   ]
  },
  {
   "cell_type": "markdown",
   "id": "08b3a79b",
   "metadata": {},
   "source": [
    "###### Web scrapping\n",
    "\n",
    "# Parsing the HTML with BeautifulSoup\n",
    "\n",
    "BeautifulSoup is a Python library for parsing HTML and XML documents. It is often used for web scraping. BeautifulSoup transforms a complex HTML document into a complex tree of Python objects, such as tag, navigable string, or comment."
   ]
  },
  {
   "cell_type": "code",
   "execution_count": 29,
   "id": "38f81206",
   "metadata": {},
   "outputs": [],
   "source": [
    "#pip install beautifulsoup4"
   ]
  },
  {
   "cell_type": "markdown",
   "id": "ca615770",
   "metadata": {},
   "source": [
    "### Téléthon use case (read, store, visualize)\n",
    "https://www.afm-telethon.fr/fr/le-telethon/le-telethon-c-est-quoi/l-histoire-du-telethon/les-resultats-du-telethon"
   ]
  },
  {
   "cell_type": "code",
   "execution_count": 30,
   "id": "46f2c3db",
   "metadata": {},
   "outputs": [],
   "source": [
    "url        = \"https://www.afm-telethon.fr/fr/le-telethon/le-telethon-c-est-quoi/l-histoire-du-telethon/les-resultats-du-telethon\"\n",
    "requesting = requests.get(url)\n",
    "soup       = BeautifulSoup(requesting.content, \"html.parser\")\n"
   ]
  },
  {
   "cell_type": "code",
   "execution_count": 31,
   "id": "911a20ac",
   "metadata": {},
   "outputs": [],
   "source": [
    "\n",
    "with open('tst.html', 'w') as f:\n",
    "    f.write(str(soup))\n",
    "\n",
    "    "
   ]
  },
  {
   "cell_type": "markdown",
   "id": "01ade972",
   "metadata": {},
   "source": [
    "## Let's look for some information in the page"
   ]
  },
  {
   "cell_type": "markdown",
   "id": "e59eabc2",
   "metadata": {},
   "source": [
    "#### 1. In 2006, the counter reached its highest level. Extract this information from the webpage (a sentence in the page)."
   ]
  },
  {
   "cell_type": "code",
   "execution_count": 32,
   "id": "5461aba8",
   "metadata": {},
   "outputs": [
    {
     "data": {
      "text/plain": [
       "[\"C'est en 2006 que le compteur a atteint son niveau le plus haut, avec 106 696 532 €.\\xa0\"]"
      ]
     },
     "execution_count": 32,
     "metadata": {},
     "output_type": "execute_result"
    }
   ],
   "source": [
    "# Using css selector\n",
    "html_doc = open('tst.html','r')\n",
    "soup = BeautifulSoup(html_doc, 'html.parser')\n",
    "#print(soup.prettify())\n",
    "res = soup.find_all(text = re.compile(\"C'est en 2006 que le compteur a atteint son niveau le plus haut,\"))\n",
    "res"
   ]
  },
  {
   "cell_type": "code",
   "execution_count": 33,
   "id": "bef33eb8",
   "metadata": {},
   "outputs": [
    {
     "name": "stdout",
     "output_type": "stream",
     "text": [
      "<p>C'est en 2006 que le compteur a atteint son niveau le plus haut, avec 106 696 532 €. </p>\n"
     ]
    }
   ],
   "source": [
    "# Using tags \n",
    "print(soup.find(['p'],text = re.compile(\"C'est en\")))"
   ]
  },
  {
   "cell_type": "markdown",
   "id": "9197f9c6",
   "metadata": {},
   "source": [
    "#### 2. Retrieve the publication date from the webpage, using the CSS classes."
   ]
  },
  {
   "cell_type": "code",
   "execution_count": 34,
   "id": "8014e7c0",
   "metadata": {},
   "outputs": [
    {
     "data": {
      "text/plain": [
       "[<div class=\"date\">\n",
       "               Publié le 09/06/2022 \n",
       "             </div>]"
      ]
     },
     "execution_count": 34,
     "metadata": {},
     "output_type": "execute_result"
    }
   ],
   "source": [
    "soup.select(\".date\")"
   ]
  },
  {
   "cell_type": "code",
   "execution_count": 35,
   "id": "00fc62e7",
   "metadata": {},
   "outputs": [],
   "source": [
    "## ou est la date ?"
   ]
  },
  {
   "cell_type": "markdown",
   "id": "ff8ca211",
   "metadata": {},
   "source": [
    "#### 3. Find the number of tables defined in the soup. "
   ]
  },
  {
   "cell_type": "code",
   "execution_count": 36,
   "id": "f81b9d8f",
   "metadata": {},
   "outputs": [
    {
     "data": {
      "text/plain": [
       "1"
      ]
     },
     "execution_count": 36,
     "metadata": {},
     "output_type": "execute_result"
    }
   ],
   "source": [
    "len(soup.select(\"table\"))"
   ]
  },
  {
   "cell_type": "markdown",
   "id": "638d04a1",
   "metadata": {},
   "source": [
    "#### 3. Retrieve the items from this table. Create a python dataframe representing this table (do not forget to include the name of the columns as defined in the webpage)."
   ]
  },
  {
   "cell_type": "code",
   "execution_count": 37,
   "id": "f4503d8b",
   "metadata": {},
   "outputs": [
    {
     "name": "stdout",
     "output_type": "stream",
     "text": [
      "[<th>Année</th>, <th>Montant collecté</th>]\n",
      "[<td>1987</td>, <td>29 650 000 €</td>, <td>1988</td>, <td>28 490 000 €</td>, <td>1989</td>, <td>40 930 000 €</td>, <td>1990</td>, <td>46 510 000 €</td>, <td>1991</td>, <td>38 650 000 €</td>, <td>1992</td>, <td>47 870 000 €</td>, <td>1993</td>, <td>55 600 000 €</td>, <td>1994</td>, <td>57 520 000 € </td>, <td>1995</td>, <td>56 763 000 € </td>, <td>1996</td>, <td>56 872 000 €</td>, <td>1997</td>, <td>63 043 286 € </td>, <td>1998</td>, <td>70 449 000 €</td>, <td>1999</td>, <td>71 417 798 €</td>, <td>2000</td>, <td>79 640 119 €</td>, <td>2001</td>, <td>81 188 013 €</td>, <td>2002</td>, <td>91 546 548 €</td>, <td>2003</td>, <td>97 657 833 €</td>, <td>2004</td>, <td>104 678 697 € </td>, <td>2005</td>, <td>104 078 464 €  </td>, <td>2006</td>, <td>106 696 532 €</td>, <td>2007</td>, <td>102 315 233 € </td>, <td>2008</td>, <td>104 911 383 €</td>, <td>2009</td>, <td>95 200 117 €</td>, <td>2010</td>, <td>90 450 486 €</td>, <td>2011</td>, <td>94 091 902 € </td>, <td>2012</td>, <td>88 156 400 €</td>, <td>2013</td>, <td>89 327 268 €</td>, <td>2014</td>, <td>92 920 108 €</td>, <td>2015</td>, <td>93 850 778 €</td>, <td>2016</td>, <td>92 740 769 €</td>, <td>2017</td>, <td>89 189 384 €</td>, <td>2018</td>, <td>85 844 117 €</td>, <td>2019</td>, <td>87 026 262 €</td>, <td>2020</td>, <td>77 298 024 €</td>, <td>2021</td>, <td>85 933 166 €</td>]\n"
     ]
    }
   ],
   "source": [
    "print(soup.select('th'))\n",
    "print(soup.select('td'))"
   ]
  },
  {
   "cell_type": "markdown",
   "id": "0c6b7a2b",
   "metadata": {},
   "source": [
    "La balise <th> définit une cellule d'en-tête dans une table de HTML. La balise <td> définit une cellule standard dans une table de HTML."
   ]
  },
  {
   "cell_type": "code",
   "execution_count": 38,
   "id": "54eb1cec",
   "metadata": {},
   "outputs": [
    {
     "data": {
      "text/html": [
       "<div>\n",
       "<style scoped>\n",
       "    .dataframe tbody tr th:only-of-type {\n",
       "        vertical-align: middle;\n",
       "    }\n",
       "\n",
       "    .dataframe tbody tr th {\n",
       "        vertical-align: top;\n",
       "    }\n",
       "\n",
       "    .dataframe thead th {\n",
       "        text-align: right;\n",
       "    }\n",
       "</style>\n",
       "<table border=\"1\" class=\"dataframe\">\n",
       "  <thead>\n",
       "    <tr style=\"text-align: right;\">\n",
       "      <th></th>\n",
       "      <th>Année</th>\n",
       "      <th>Montant collecté</th>\n",
       "    </tr>\n",
       "  </thead>\n",
       "  <tbody>\n",
       "    <tr>\n",
       "      <th>0</th>\n",
       "      <td>1987</td>\n",
       "      <td>29 650 000 </td>\n",
       "    </tr>\n",
       "    <tr>\n",
       "      <th>1</th>\n",
       "      <td>1988</td>\n",
       "      <td>28 490 000 </td>\n",
       "    </tr>\n",
       "    <tr>\n",
       "      <th>2</th>\n",
       "      <td>1989</td>\n",
       "      <td>40 930 000 </td>\n",
       "    </tr>\n",
       "    <tr>\n",
       "      <th>3</th>\n",
       "      <td>1990</td>\n",
       "      <td>46 510 000 </td>\n",
       "    </tr>\n",
       "    <tr>\n",
       "      <th>4</th>\n",
       "      <td>1991</td>\n",
       "      <td>38 650 000 </td>\n",
       "    </tr>\n",
       "  </tbody>\n",
       "</table>\n",
       "</div>"
      ],
      "text/plain": [
       "   Année Montant collecté\n",
       "0   1987     29 650 000 \n",
       "1   1988     28 490 000 \n",
       "2   1989     40 930 000 \n",
       "3   1990     46 510 000 \n",
       "4   1991     38 650 000 "
      ]
     },
     "execution_count": 38,
     "metadata": {},
     "output_type": "execute_result"
    }
   ],
   "source": [
    "tables = pd.read_html('tst.html')\n",
    "df = tables[0]\n",
    "df.head()"
   ]
  },
  {
   "cell_type": "code",
   "execution_count": 39,
   "id": "148307af",
   "metadata": {},
   "outputs": [
    {
     "data": {
      "text/plain": [
       "(35, 2)"
      ]
     },
     "execution_count": 39,
     "metadata": {},
     "output_type": "execute_result"
    }
   ],
   "source": [
    "df.shape"
   ]
  },
  {
   "cell_type": "code",
   "execution_count": 40,
   "id": "1aba32d6",
   "metadata": {},
   "outputs": [
    {
     "data": {
      "text/plain": [
       "Année                int64\n",
       "Montant collecté    object\n",
       "dtype: object"
      ]
     },
     "execution_count": 40,
     "metadata": {},
     "output_type": "execute_result"
    }
   ],
   "source": [
    "df.dtypes"
   ]
  },
  {
   "cell_type": "markdown",
   "id": "351dfa6c",
   "metadata": {},
   "source": [
    "#### 4. Clean up columns and their types \n",
    "(it's up to you to propose how, why and what to do)"
   ]
  },
  {
   "cell_type": "code",
   "execution_count": 41,
   "id": "538b6f10",
   "metadata": {},
   "outputs": [
    {
     "data": {
      "text/html": [
       "<div>\n",
       "<style scoped>\n",
       "    .dataframe tbody tr th:only-of-type {\n",
       "        vertical-align: middle;\n",
       "    }\n",
       "\n",
       "    .dataframe tbody tr th {\n",
       "        vertical-align: top;\n",
       "    }\n",
       "\n",
       "    .dataframe thead th {\n",
       "        text-align: right;\n",
       "    }\n",
       "</style>\n",
       "<table border=\"1\" class=\"dataframe\">\n",
       "  <thead>\n",
       "    <tr style=\"text-align: right;\">\n",
       "      <th></th>\n",
       "      <th>Année</th>\n",
       "      <th>Montant collecté</th>\n",
       "    </tr>\n",
       "  </thead>\n",
       "  <tbody>\n",
       "    <tr>\n",
       "      <th>0</th>\n",
       "      <td>1987</td>\n",
       "      <td>29650000</td>\n",
       "    </tr>\n",
       "    <tr>\n",
       "      <th>1</th>\n",
       "      <td>1988</td>\n",
       "      <td>28490000</td>\n",
       "    </tr>\n",
       "    <tr>\n",
       "      <th>2</th>\n",
       "      <td>1989</td>\n",
       "      <td>40930000</td>\n",
       "    </tr>\n",
       "    <tr>\n",
       "      <th>3</th>\n",
       "      <td>1990</td>\n",
       "      <td>46510000</td>\n",
       "    </tr>\n",
       "    <tr>\n",
       "      <th>4</th>\n",
       "      <td>1991</td>\n",
       "      <td>38650000</td>\n",
       "    </tr>\n",
       "  </tbody>\n",
       "</table>\n",
       "</div>"
      ],
      "text/plain": [
       "   Année  Montant collecté\n",
       "0   1987          29650000\n",
       "1   1988          28490000\n",
       "2   1989          40930000\n",
       "3   1990          46510000\n",
       "4   1991          38650000"
      ]
     },
     "execution_count": 41,
     "metadata": {},
     "output_type": "execute_result"
    }
   ],
   "source": [
    "def remove(string):\n",
    "    pattern = re.compile(r'\\s+')\n",
    "    return re.sub(pattern, '', string)\n",
    "\n",
    "df['Montant collecté'] = df['Montant collecté'].apply(lambda x: int(remove(x[:-2])))\n",
    "df.head()"
   ]
  },
  {
   "cell_type": "code",
   "execution_count": 42,
   "id": "eca02303",
   "metadata": {},
   "outputs": [
    {
     "data": {
      "text/plain": [
       "Année               int64\n",
       "Montant collecté    int64\n",
       "dtype: object"
      ]
     },
     "execution_count": 42,
     "metadata": {},
     "output_type": "execute_result"
    }
   ],
   "source": [
    "df.dtypes"
   ]
  },
  {
   "cell_type": "markdown",
   "id": "b70097b9",
   "metadata": {},
   "source": [
    "#### 5. Retrieve the date when the most amount was collected \n",
    "\n",
    "(we already scrapped the info before, here we want the info with the table)"
   ]
  },
  {
   "cell_type": "code",
   "execution_count": 43,
   "id": "8cb09bc5",
   "metadata": {},
   "outputs": [],
   "source": [
    "df[df['Montant collecté']==max(df['Montant collecté'])] ['Année']\n",
    "\n",
    "max_a,max_val = df[df['Montant collecté']==max(df['Montant collecté'])] ['Année'],max(df['Montant collecté'])\n",
    "\n",
    "min_a,min_val = df[df['Montant collecté']==min(df['Montant collecté'])] ['Année'],min(df['Montant collecté'])"
   ]
  },
  {
   "cell_type": "markdown",
   "id": "8987bbf7",
   "metadata": {},
   "source": [
    "#### 6. Visualize the evolution of the amount collected per year.\n",
    "#### Mark the maximum and minimum of the evolution with respectively red and green colors."
   ]
  },
  {
   "cell_type": "code",
   "execution_count": 44,
   "id": "955d0409",
   "metadata": {},
   "outputs": [
    {
     "data": {
      "text/plain": [
       "<matplotlib.legend.Legend at 0x1adc9cad7c0>"
      ]
     },
     "execution_count": 44,
     "metadata": {},
     "output_type": "execute_result"
    },
    {
     "data": {
      "image/png": "[encoded data removed]",
      "text/plain": [
       "<Figure size 1080x432 with 1 Axes>"
      ]
     },
     "metadata": {
      "needs_background": "light"
     },
     "output_type": "display_data"
    }
   ],
   "source": [
    "ax = df.plot.scatter('Année','Montant collecté',figsize=(15,6))\n",
    "ax.plot(df['Année'],df['Montant collecté'],'--',label='Montant(M)')\n",
    "ax.plot(max_a,max_val,'g^',markersize=10 ,label='Max')\n",
    "ax.plot(min_a,min_val,'rv',markersize=10 ,label='Min')\n",
    "ax.set_title('Evolution des montants collectés sur les années')\n",
    "ax.legend()"
   ]
  },
  {
   "cell_type": "markdown",
   "id": "c4c5ffd3",
   "metadata": {},
   "source": [
    "## 7. Bonus question: We expect the graph bellow:"
   ]
  },
  {
   "cell_type": "code",
   "execution_count": 45,
   "id": "915c56c1",
   "metadata": {},
   "outputs": [
    {
     "data": {
      "text/plain": [
       "<AxesSubplot:xlabel='Année'>"
      ]
     },
     "execution_count": 45,
     "metadata": {},
     "output_type": "execute_result"
    },
    {
     "data": {
      "image/png": "[encoded data removed]",
      "text/plain": [
       "<Figure size 1080x504 with 1 Axes>"
      ]
     },
     "metadata": {
      "needs_background": "light"
     },
     "output_type": "display_data"
    }
   ],
   "source": [
    "df2 = pd.DataFrame()\n",
    "df2['Montant collecté'] = df['Montant collecté']\n",
    "df2.set_index(df['Année'],inplace=True)\n",
    "df2.plot.bar(figsize=(15,7),color=['r','b'])"
   ]
  },
  {
   "cell_type": "markdown",
   "id": "1f5873a4",
   "metadata": {},
   "source": [
    "## Use case 2: https://www.infoclimat.fr/observations-meteo/archives/7/septembre/2019/paris-montsouris/07156.html"
   ]
  },
  {
   "cell_type": "markdown",
   "id": "fd5afe8e",
   "metadata": {},
   "source": [
    "#### Convert the table of this site into a pandas dataframe\n",
    "\n",
    "You must include the names of the columns and the names of the rows (the hours) as an index "
   ]
  },
  {
   "cell_type": "code",
   "execution_count": 46,
   "id": "df82663f",
   "metadata": {},
   "outputs": [],
   "source": [
    "url   = \"https://www.infoclimat.fr/observations-meteo/archives/7/septembre/2019/paris-montsouris/07156.html\"\n",
    "page  = requests.get(url )\n",
    "html  = page.text\n",
    "soup  = BeautifulSoup(html)"
   ]
  },
  {
   "cell_type": "code",
   "execution_count": 47,
   "id": "945b53b4",
   "metadata": {},
   "outputs": [
    {
     "data": {
      "text/plain": [
       "4"
      ]
     },
     "execution_count": 47,
     "metadata": {},
     "output_type": "execute_result"
    }
   ],
   "source": [
    "len(soup.select(\"table\"))"
   ]
  },
  {
   "cell_type": "code",
   "execution_count": 48,
   "id": "6e196abf",
   "metadata": {},
   "outputs": [
    {
     "data": {
      "text/html": [
       "<div>\n",
       "<style scoped>\n",
       "    .dataframe tbody tr th:only-of-type {\n",
       "        vertical-align: middle;\n",
       "    }\n",
       "\n",
       "    .dataframe tbody tr th {\n",
       "        vertical-align: top;\n",
       "    }\n",
       "\n",
       "    .dataframe thead th {\n",
       "        text-align: right;\n",
       "    }\n",
       "</style>\n",
       "<table border=\"1\" class=\"dataframe\">\n",
       "  <thead>\n",
       "    <tr style=\"text-align: right;\">\n",
       "      <th></th>\n",
       "      <th>Unnamed: 1</th>\n",
       "      <th>Température</th>\n",
       "      <th>Pluie</th>\n",
       "      <th>Vent</th>\n",
       "      <th>Humidité</th>\n",
       "      <th>Bio-météo</th>\n",
       "      <th>Pt. de rosée</th>\n",
       "      <th>Pression</th>\n",
       "      <th>Visibilité</th>\n",
       "    </tr>\n",
       "    <tr>\n",
       "      <th>Heure locale</th>\n",
       "      <th></th>\n",
       "      <th></th>\n",
       "      <th></th>\n",
       "      <th></th>\n",
       "      <th></th>\n",
       "      <th></th>\n",
       "      <th></th>\n",
       "      <th></th>\n",
       "      <th></th>\n",
       "    </tr>\n",
       "  </thead>\n",
       "  <tbody>\n",
       "    <tr>\n",
       "      <th>01h</th>\n",
       "      <td>add_circle_outline</td>\n",
       "      <td>13.9 °C 13.9 → 14.3</td>\n",
       "      <td>0 mm/1h</td>\n",
       "      <td>14 km/hraf.32.4</td>\n",
       "      <td>76%</td>\n",
       "      <td>NaN</td>\n",
       "      <td>9.7 °C</td>\n",
       "      <td>1023hPa</td>\n",
       "      <td>20 km</td>\n",
       "    </tr>\n",
       "    <tr>\n",
       "      <th>00h</th>\n",
       "      <td>add_circle_outline</td>\n",
       "      <td>14.3 °C 14.3 → 14.9</td>\n",
       "      <td>0 mm/1h</td>\n",
       "      <td>18 km/hraf.37.8</td>\n",
       "      <td>73%</td>\n",
       "      <td>NaN</td>\n",
       "      <td>9.5 °C</td>\n",
       "      <td>1023.2hPa</td>\n",
       "      <td>20 km</td>\n",
       "    </tr>\n",
       "    <tr>\n",
       "      <th>23h</th>\n",
       "      <td>add_circle_outline</td>\n",
       "      <td>14.9 °C 14.7 → 14.9</td>\n",
       "      <td>0 mm/1h</td>\n",
       "      <td>14 km/hraf.39.6</td>\n",
       "      <td>69%</td>\n",
       "      <td>NaN</td>\n",
       "      <td>9.3 °C</td>\n",
       "      <td>1023.0hPa</td>\n",
       "      <td>20 km</td>\n",
       "    </tr>\n",
       "    <tr>\n",
       "      <th>22h</th>\n",
       "      <td>add_circle_outline</td>\n",
       "      <td>14.8 °C 14.8 → 15.4</td>\n",
       "      <td>0 mm/1h</td>\n",
       "      <td>18 km/hraf.34.2</td>\n",
       "      <td>67%</td>\n",
       "      <td>NaN</td>\n",
       "      <td>8.7 °C</td>\n",
       "      <td>1022.8hPa</td>\n",
       "      <td>20 km</td>\n",
       "    </tr>\n",
       "    <tr>\n",
       "      <th>21h</th>\n",
       "      <td>add_circle_outline</td>\n",
       "      <td>15.4 °C 15.4 → 16.8</td>\n",
       "      <td>0 mm/1h</td>\n",
       "      <td>14 km/hraf.45.7</td>\n",
       "      <td>62%</td>\n",
       "      <td>NaN</td>\n",
       "      <td>8.2 °C</td>\n",
       "      <td>1022.2hPa</td>\n",
       "      <td>20 km</td>\n",
       "    </tr>\n",
       "  </tbody>\n",
       "</table>\n",
       "</div>"
      ],
      "text/plain": [
       "                      Unnamed: 1          Température    Pluie  \\\n",
       "Heure locale                                                     \n",
       "01h           add_circle_outline  13.9 °C 13.9 → 14.3  0 mm/1h   \n",
       "00h           add_circle_outline  14.3 °C 14.3 → 14.9  0 mm/1h   \n",
       "23h           add_circle_outline  14.9 °C 14.7 → 14.9  0 mm/1h   \n",
       "22h           add_circle_outline  14.8 °C 14.8 → 15.4  0 mm/1h   \n",
       "21h           add_circle_outline  15.4 °C 15.4 → 16.8  0 mm/1h   \n",
       "\n",
       "                         Vent Humidité  Bio-météo Pt. de rosée   Pression  \\\n",
       "Heure locale                                                                \n",
       "01h           14 km/hraf.32.4      76%        NaN       9.7 °C    1023hPa   \n",
       "00h           18 km/hraf.37.8      73%        NaN       9.5 °C  1023.2hPa   \n",
       "23h           14 km/hraf.39.6      69%        NaN       9.3 °C  1023.0hPa   \n",
       "22h           18 km/hraf.34.2      67%        NaN       8.7 °C  1022.8hPa   \n",
       "21h           14 km/hraf.45.7      62%        NaN       8.2 °C  1022.2hPa   \n",
       "\n",
       "             Visibilité  \n",
       "Heure locale             \n",
       "01h               20 km  \n",
       "00h               20 km  \n",
       "23h               20 km  \n",
       "22h               20 km  \n",
       "21h               20 km  "
      ]
     },
     "execution_count": 48,
     "metadata": {},
     "output_type": "execute_result"
    }
   ],
   "source": [
    "tables = pd.read_html(page.text)\n",
    "df1 = tables[0]\n",
    "df2 = tables[1]\n",
    "df3 = tables[2]\n",
    "df2.set_index('Heure locale',inplace=True)\n",
    "df2.head()\n"
   ]
  },
  {
   "cell_type": "markdown",
   "id": "449669e4",
   "metadata": {},
   "source": [
    "### To help you: Define a function that allows you to retrieve the value of row i and column j of the table"
   ]
  },
  {
   "cell_type": "code",
   "execution_count": 49,
   "id": "7aa4b597",
   "metadata": {},
   "outputs": [],
   "source": [
    "def value_of_i_j(df,i,j):\n",
    "    return df.iloc[i,j]"
   ]
  },
  {
   "cell_type": "code",
   "execution_count": 50,
   "id": "2eee217f",
   "metadata": {},
   "outputs": [
    {
     "name": "stdout",
     "output_type": "stream",
     "text": [
      "14.3 °C 14.3 → 14.9\n"
     ]
    }
   ],
   "source": [
    "print(value_of_i_j(df2,1,1))"
   ]
  }
 ],
 "metadata": {
  "kernelspec": {
   "display_name": "Python 3 (ipykernel)",
   "language": "python",
   "name": "python3"
  },
  "language_info": {
   "codemirror_mode": {
    "name": "ipython",
    "version": 3
   },
   "file_extension": ".py",
   "mimetype": "text/x-python",
   "name": "python",
   "nbconvert_exporter": "python",
   "pygments_lexer": "ipython3",
   "version": "3.9.7"
  }
 },
 "nbformat": 4,
 "nbformat_minor": 5
}
